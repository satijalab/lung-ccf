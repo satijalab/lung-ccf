{
 "cells": [
  {
   "cell_type": "markdown",
   "metadata": {},
   "source": [
    "# Setting up 3D-GUI in jupyter \n",
    "- Install `ipywidgets` and `ipyvolume`.\n",
    "- If you use jupyterlab (as you should) install following extensions:\n",
    "    - `jupyter labextension install @jupyter-widgets/jupyterlab-manager`\n",
    "    - `jupyter labextension install ipyvolume`\n",
    "    - `jupyter labextension install jupyter-threejs`\n",
    "    - `jupyter labextension install jupyterlab-datawidgets`\n",
    "- I have not test this on jupyter notebooks."
   ]
  },
  {
   "cell_type": "code",
   "execution_count": 5,
   "metadata": {},
   "outputs": [],
   "source": [
    "import warnings\n",
    "warnings.filterwarnings('ignore')  # do not print any warnings"
   ]
  },
  {
   "cell_type": "markdown",
   "metadata": {},
   "source": [
    "***\n",
    "## Test `ipywidgests`"
   ]
  },
  {
   "cell_type": "markdown",
   "metadata": {},
   "source": [
    "If this works, an interactive slider should appear."
   ]
  },
  {
   "cell_type": "code",
   "execution_count": 1,
   "metadata": {},
   "outputs": [
    {
     "data": {
      "application/vnd.jupyter.widget-view+json": {
       "model_id": "a257114ee38846c894ffc0699a1ffd4a",
       "version_major": 2,
       "version_minor": 0
      },
      "text/plain": [
       "interactive(children=(IntSlider(value=10, description='x', max=30, min=-10), Output()), _dom_classes=('widget-…"
      ]
     },
     "metadata": {},
     "output_type": "display_data"
    }
   ],
   "source": [
    "import ipywidgets as widgets\n",
    "\n",
    "def f(x):\n",
    "    return x\n",
    "\n",
    "widgets.interact(f, x=10);"
   ]
  },
  {
   "cell_type": "markdown",
   "metadata": {},
   "source": [
    "***\n",
    "## Test `ipyvolumes`"
   ]
  },
  {
   "cell_type": "markdown",
   "metadata": {},
   "source": [
    "If installed correctly, shows blob thing inside 3D viewer."
   ]
  },
  {
   "cell_type": "code",
   "execution_count": 6,
   "metadata": {},
   "outputs": [
    {
     "data": {
      "application/vnd.jupyter.widget-view+json": {
       "model_id": "2befb3d5378943d3be0742c942f25378",
       "version_major": 2,
       "version_minor": 0
      },
      "text/plain": [
       "VBox(children=(Figure(camera=PerspectiveCamera(fov=46.0, position=(0.0, 0.0, 2.0), quaternion=(0.0, 0.0, 0.0, …"
      ]
     },
     "metadata": {},
     "output_type": "display_data"
    }
   ],
   "source": [
    "import ipyvolume as ipv\n",
    "fig = ipv.figure()\n",
    "vol_head = ipv.examples.head(max_shape=128);\n",
    "vol_head.ray_steps = 800"
   ]
  },
  {
   "cell_type": "markdown",
   "metadata": {},
   "source": [
    "***\n",
    "## Display lungs"
   ]
  },
  {
   "cell_type": "code",
   "execution_count": 14,
   "metadata": {},
   "outputs": [],
   "source": [
    "import os\n",
    "import SimpleITK as sitk"
   ]
  },
  {
   "cell_type": "markdown",
   "metadata": {},
   "source": [
    "Load `SER0002` lungs"
   ]
  },
  {
   "cell_type": "code",
   "execution_count": 15,
   "metadata": {},
   "outputs": [],
   "source": [
    "# set data\n",
    "# home = '...'\n",
    "data_folder = os.path.join(home, 'datasets/lung/D175_CT_SCAN/')\n",
    "path_right = os.path.join(data_folder, 'SER_0002_RIGHT/')\n",
    "path_left = os.path.join(data_folder, 'SER_0002_LEFT/')\n",
    "\n",
    "def load_image_series(path):\n",
    "    \"\"\"Tim's helper to load data\"\"\"\n",
    "    # TODO: configure `ImageSeriesReader` to read metadata in `load_image_series`.\n",
    "    series_reader = sitk.ImageSeriesReader()\n",
    "    cur_paths = series_reader.GetGDCMSeriesFileNames(path)\n",
    "    sitk_image = sitk.ReadImage(cur_paths)\n",
    "    return sitk_image\n",
    "\n",
    "# Load DICOM series\n",
    "sitk_l = load_image_series(path_left)\n",
    "sitk_r = load_image_series(path_right)\n",
    "\n",
    "# cast image to uInt w 0 - 255 range intensity\n",
    "sitk_l = sitk.Cast(sitk.RescaleIntensity(sitk_l), sitk.sitkUInt8)\n",
    "sitk_r = sitk.Cast(sitk.RescaleIntensity(sitk_r), sitk.sitkUInt8)\n",
    "\n",
    "# get np views\n",
    "np_l = sitk.GetArrayViewFromImage(sitk_l)\n",
    "np_r = sitk.GetArrayViewFromImage(sitk_r)"
   ]
  },
  {
   "cell_type": "markdown",
   "metadata": {},
   "source": [
    "Set up values for nice plotting"
   ]
  },
  {
   "cell_type": "code",
   "execution_count": 20,
   "metadata": {},
   "outputs": [],
   "source": [
    "opacities = [0, .1, .2]\n",
    "levels = [.1, .2, .3]"
   ]
  },
  {
   "cell_type": "code",
   "execution_count": 21,
   "metadata": {},
   "outputs": [
    {
     "data": {
      "application/vnd.jupyter.widget-view+json": {
       "model_id": "19def097ddcc475cb42938b8dda7b43c",
       "version_major": 2,
       "version_minor": 0
      },
      "text/plain": [
       "VBox(children=(VBox(children=(HBox(children=(Label(value='levels:'), FloatSlider(value=0.1, max=1.0, step=0.00…"
      ]
     },
     "metadata": {},
     "output_type": "display_data"
    }
   ],
   "source": [
    "ipv.quickvolshow(np_l, level=levels, opacity=opacities)"
   ]
  },
  {
   "cell_type": "code",
   "execution_count": 22,
   "metadata": {},
   "outputs": [
    {
     "data": {
      "application/vnd.jupyter.widget-view+json": {
       "model_id": "fb1c0969779a4c8bba5b1066ffaae737",
       "version_major": 2,
       "version_minor": 0
      },
      "text/plain": [
       "VBox(children=(VBox(children=(HBox(children=(Label(value='levels:'), FloatSlider(value=0.1, max=1.0, step=0.00…"
      ]
     },
     "metadata": {},
     "output_type": "display_data"
    }
   ],
   "source": [
    "ipv.quickvolshow(np_r, level=levels, opacity=opacities)"
   ]
  }
 ],
 "metadata": {
  "kernelspec": {
   "display_name": "Python 3",
   "language": "python",
   "name": "python3"
  },
  "language_info": {
   "codemirror_mode": {
    "name": "ipython",
    "version": 3
   },
   "file_extension": ".py",
   "mimetype": "text/x-python",
   "name": "python",
   "nbconvert_exporter": "python",
   "pygments_lexer": "ipython3",
   "version": "3.7.3"
  }
 },
 "nbformat": 4,
 "nbformat_minor": 2
}
